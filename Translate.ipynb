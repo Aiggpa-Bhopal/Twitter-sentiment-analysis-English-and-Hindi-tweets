{
 "cells": [
  {
   "cell_type": "code",
   "execution_count": null,
   "metadata": {},
   "outputs": [],
   "source": [
    "\n",
    "import nltk\n",
    "nltk.download('vader_lexicon')\n"
   ]
  },
  {
   "cell_type": "code",
   "execution_count": null,
   "metadata": {},
   "outputs": [],
   "source": [
    "# Add label weather it is english or hindi tweet\n",
    "import pandas as pd\n",
    "from langdetect import detect\n",
    "\n",
    "# Load data from Excel file\n",
    "df = pd.read_excel('cleaned.xlsx')\n",
    "\n",
    "# Add a new 'Language' column\n",
    "df['Language'] = ''\n",
    "\n",
    "# Iterate over each row and perform language detection\n",
    "for index, row in df.iterrows():\n",
    "    tweet = row['Tweet text']\n",
    "    try:\n",
    "        lang = detect(tweet)\n",
    "    except:\n",
    "        lang = ''\n",
    "    df.at[index, 'Language'] = lang\n",
    "\n",
    "# Iterate over each row and perform sentiment analysis\n",
    "for index, row in df.iterrows():\n",
    "    tweet = row['Tweet text']\n",
    "    lang = row['Language']\n",
    "\n",
    "# Save the updated dataframe to a new Excel file\n",
    "df.to_excel('translated.xlsx', index=False)\n"
   ]
  },
  {
   "cell_type": "code",
   "execution_count": 15,
   "metadata": {},
   "outputs": [],
   "source": [
    "# \n",
    "import pandas as pd\n",
    "import translators as ts\n",
    "\n",
    "# Load data from Excel file\n",
    "df = pd.read_excel('translated.xlsx')\n",
    "\n",
    "# Create a new column 'Translated Tweet' and initialize it with empty strings\n",
    "df['Translated Tweet'] = ''\n",
    "\n",
    "# Iterate over each row and translate Hindi tweets to English\n",
    "for index, row in df.iterrows():\n",
    "    tweet = row['Tweet text']\n",
    "    lang = row['Language']\n",
    "    if lang == 'hi':\n",
    "        translated_tweet = ts.translate_text(tweet, translator='google')\n",
    "        df.at[index, 'Translated Tweet'] = translated_tweet\n",
    "    elif lang == 'en':\n",
    "        df.at[index, 'Translated Tweet'] = tweet\n",
    "\n",
    "# Save the updated dataframe to a new Excel file\n",
    "df.to_excel('translated_tweets1.xlsx', index=False)\n"
   ]
  }
 ],
 "metadata": {
  "kernelspec": {
   "display_name": "base",
   "language": "python",
   "name": "python3"
  },
  "language_info": {
   "codemirror_mode": {
    "name": "ipython",
    "version": 3
   },
   "file_extension": ".py",
   "mimetype": "text/x-python",
   "name": "python",
   "nbconvert_exporter": "python",
   "pygments_lexer": "ipython3",
   "version": "3.11.4"
  },
  "orig_nbformat": 4
 },
 "nbformat": 4,
 "nbformat_minor": 2
}
