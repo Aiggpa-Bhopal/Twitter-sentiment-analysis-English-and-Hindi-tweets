{
 "cells": [
  {
   "cell_type": "code",
   "execution_count": null,
   "metadata": {},
   "outputs": [],
   "source": [
    "!pip install selenium\n",
    "!pip install webdriver_manager"
   ]
  },
  {
   "cell_type": "code",
   "execution_count": null,
   "metadata": {},
   "outputs": [],
   "source": [
    "from selenium import webdriver\n",
    "from selenium.webdriver.chrome.service import Service\n",
    "from selenium.webdriver.support.ui import WebDriverWait\n",
    "from selenium.webdriver.support import expected_conditions as EC\n",
    "from selenium.common.exceptions import WebDriverException\n",
    "from selenium.webdriver.common.by import By\n",
    "from webdriver_manager.chrome import ChromeDriverManager"
   ]
  },
  {
   "cell_type": "code",
   "execution_count": null,
   "metadata": {},
   "outputs": [],
   "source": [
    "#used to open a blank chrome window.\n",
    "driver= webdriver.Chrome(service=Service(ChromeDriverManager().install()))"
   ]
  },
  {
   "cell_type": "code",
   "execution_count": null,
   "metadata": {},
   "outputs": [],
   "source": [
    "#Ready the URL\n",
    "username = \"cmyip_\"\n",
    "URL = \"https://twitter.com/\" + username + \"?lang=en\""
   ]
  },
  {
   "cell_type": "code",
   "execution_count": null,
   "metadata": {},
   "outputs": [],
   "source": [
    "#Load the URL\n",
    "driver.get(URL)"
   ]
  },
  {
   "cell_type": "code",
   "execution_count": null,
   "metadata": {},
   "outputs": [],
   "source": [
    "#make sure this comes in private repo only as it contains sensetive data#\n",
    "#Used for login automation\n",
    "from selenium.webdriver.common.by import By\n",
    "from selenium.webdriver.support.ui import WebDriverWait\n",
    "from selenium.webdriver.support import expected_conditions as EC\n",
    "wait = WebDriverWait(driver, 30)\n",
    "username_input = wait.until(EC.visibility_of_element_located((By.NAME, \"text\")))\n",
    "username_input.send_keys('amankum90947913')\n",
    "next = driver.find_element(By.XPATH,'/html/body/div/div/div/div[1]/div/div/div/div/div/div/div[2]/div[2]/div/div/div[2]/div[2]/div/div/div/div[6]/div/span/span')\n",
    "next.click()\n",
    "password_input = wait.until(EC.visibility_of_element_located((By.NAME, \"password\")))\n",
    "password_input.send_keys('yWH5qTT3cGtctpF')\n",
    "login = driver.find_element(By.XPATH,'/html/body/div/div/div/div[1]/div/div/div/div/div/div/div[2]/div[2]/div/div/div[2]/div[2]/div[2]/div/div[1]/div/div/div/div/span/span')\n",
    "login.click()"
   ]
  },
  {
   "cell_type": "code",
   "execution_count": null,
   "metadata": {},
   "outputs": [],
   "source": [
    "#demo to find tweets by css selector. (only for demo)\n",
    "#tweets = driver.find_elements(By.CSS_SELECTOR, '[data-testid=\"tweet\"]')"
   ]
  },
  {
   "cell_type": "code",
   "execution_count": null,
   "metadata": {},
   "outputs": [],
   "source": [
    "#efficient\n",
    "from time import sleep\n",
    "import pandas as pd\n",
    "\n",
    "num_scrolls = 2\n",
    "scroll_increment = 2500 # Adjust the scroll increment as per your preference for faster scrolling\n",
    "scroll_delay = 1  # Adjust the delay between scrolls as per your preference\n",
    "tweet_data = []\n",
    "\n",
    "for _ in range(num_scrolls):\n",
    "    # Scroll the page in larger increments for faster scrolling\n",
    "    for _ in range(scroll_increment):\n",
    "        driver.execute_script(\"window.scrollBy(0, 1);\")\n",
    "        sleep(0.0001)  # Decreased sleep time for faster scrolling\n",
    "\n",
    "    sleep(scroll_delay)\n",
    "\n",
    "    tweets = driver.find_elements(By.CSS_SELECTOR, '[data-testid=\"tweet\"]')\n",
    "    for tweet in tweets:\n",
    "        try:\n",
    "            tweet_text = tweet.find_element(By.CSS_SELECTOR, 'div[data-testid=\"tweetText\"]').text\n",
    "            tweet_date = tweet.find_element(By.CSS_SELECTOR, 'time').get_attribute('datetime')\n",
    "            retweets = tweet.find_element(By.CSS_SELECTOR, '[data-testid=\"retweet\"] span').text\n",
    "            likes = tweet.find_element(By.CSS_SELECTOR, '[data-testid=\"like\"] span').text\n",
    "\n",
    "            tweet_data.append({'Tweet text': tweet_text, 'Date': tweet_date, 'Retweets': retweets, 'Likes': likes})\n",
    "        except:\n",
    "            continue\n",
    "\n",
    "# Create a DataFrame from the tweet_data list\n",
    "df = pd.DataFrame(tweet_data)\n",
    "print(df)\n",
    "\n",
    "# Separate the data into different dataframes\n",
    "df_text = df[['Tweet text']]\n",
    "df_date = df[['Date']]\n",
    "df_retweets = df[['Retweets']]\n",
    "df_likes = df[['Likes']]\n",
    "\n",
    "print(df_text)\n",
    "print(df_date)\n",
    "print(df_retweets)\n",
    "print(df_likes)\n"
   ]
  },
  {
   "cell_type": "code",
   "execution_count": null,
   "metadata": {},
   "outputs": [],
   "source": [
    "df"
   ]
  },
  {
   "cell_type": "code",
   "execution_count": null,
   "metadata": {},
   "outputs": [],
   "source": [
    "df.to_excel('new.xlsx', index=False)"
   ]
  },
  {
   "cell_type": "code",
   "execution_count": 9,
   "metadata": {},
   "outputs": [
    {
     "data": {
      "text/html": [
       "<div>\n",
       "<style scoped>\n",
       "    .dataframe tbody tr th:only-of-type {\n",
       "        vertical-align: middle;\n",
       "    }\n",
       "\n",
       "    .dataframe tbody tr th {\n",
       "        vertical-align: top;\n",
       "    }\n",
       "\n",
       "    .dataframe thead th {\n",
       "        text-align: right;\n",
       "    }\n",
       "</style>\n",
       "<table border=\"1\" class=\"dataframe\">\n",
       "  <thead>\n",
       "    <tr style=\"text-align: right;\">\n",
       "      <th></th>\n",
       "      <th>Tweet text</th>\n",
       "      <th>Date</th>\n",
       "      <th>Retweets</th>\n",
       "      <th>Likes</th>\n",
       "    </tr>\n",
       "  </thead>\n",
       "  <tbody>\n",
       "    <tr>\n",
       "      <th>count</th>\n",
       "      <td>13</td>\n",
       "      <td>13</td>\n",
       "      <td>13</td>\n",
       "      <td>13</td>\n",
       "    </tr>\n",
       "    <tr>\n",
       "      <th>unique</th>\n",
       "      <td>10</td>\n",
       "      <td>10</td>\n",
       "      <td>10</td>\n",
       "      <td>10</td>\n",
       "    </tr>\n",
       "    <tr>\n",
       "      <th>top</th>\n",
       "      <td>मुख्यमंत्री युवा इंटर्नशिप प्रोग्राम बैच-2 के ...</td>\n",
       "      <td>2023-07-17T06:59:06.000Z</td>\n",
       "      <td>272</td>\n",
       "      <td>385</td>\n",
       "    </tr>\n",
       "    <tr>\n",
       "      <th>freq</th>\n",
       "      <td>2</td>\n",
       "      <td>2</td>\n",
       "      <td>2</td>\n",
       "      <td>2</td>\n",
       "    </tr>\n",
       "  </tbody>\n",
       "</table>\n",
       "</div>"
      ],
      "text/plain": [
       "                                               Tweet text  \\\n",
       "count                                                  13   \n",
       "unique                                                 10   \n",
       "top     मुख्यमंत्री युवा इंटर्नशिप प्रोग्राम बैच-2 के ...   \n",
       "freq                                                    2   \n",
       "\n",
       "                            Date Retweets Likes  \n",
       "count                         13       13    13  \n",
       "unique                        10       10    10  \n",
       "top     2023-07-17T06:59:06.000Z      272   385  \n",
       "freq                           2        2     2  "
      ]
     },
     "execution_count": 9,
     "metadata": {},
     "output_type": "execute_result"
    }
   ],
   "source": [
    "df.describe()"
   ]
  },
  {
   "cell_type": "code",
   "execution_count": null,
   "metadata": {},
   "outputs": [],
   "source": [
    "dsf=df.drop_duplicates('Tweet text')"
   ]
  },
  {
   "cell_type": "code",
   "execution_count": null,
   "metadata": {},
   "outputs": [],
   "source": [
    "df.shape"
   ]
  },
  {
   "cell_type": "code",
   "execution_count": null,
   "metadata": {},
   "outputs": [],
   "source": [
    "dsf.to_excel('try.xlsx', index=False)"
   ]
  }
 ],
 "metadata": {
  "kernelspec": {
   "display_name": "base",
   "language": "python",
   "name": "python3"
  },
  "language_info": {
   "codemirror_mode": {
    "name": "ipython",
    "version": 3
   },
   "file_extension": ".py",
   "mimetype": "text/x-python",
   "name": "python",
   "nbconvert_exporter": "python",
   "pygments_lexer": "ipython3",
   "version": "3.11.4"
  },
  "orig_nbformat": 4
 },
 "nbformat": 4,
 "nbformat_minor": 2
}
